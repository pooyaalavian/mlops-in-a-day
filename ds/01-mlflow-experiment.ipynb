{
  "cells": [
    {
      "attachments": {},
      "cell_type": "markdown",
      "metadata": {},
      "source": [
        "# Experimentation\n",
        "## Azure ML Compute and MLFlow tracking"
      ]
    },
    {
      "cell_type": "code",
      "execution_count": null,
      "metadata": {
        "gather": {
          "logged": 1682512546163
        }
      },
      "outputs": [],
      "source": [
        "import pandas as pd\n",
        "import numpy as np\n",
        "import matplotlib.pyplot as plt\n",
        "from sklearn.linear_model import LinearRegression\n",
        "from sklearn.ensemble import RandomForestRegressor\n",
        "from sklearn.metrics import mean_squared_error\n",
        "from sklearn.preprocessing import OneHotEncoder\n",
        "from sklearn.model_selection import train_test_split\n",
        "\n",
        "import mlflow \n",
        "import mlflow.sklearn\n",
        "\n",
        "# load data\n",
        "\n",
        "def get_data():\n",
        "    df = pd.read_csv('../data/hour.csv')\n",
        "    X = df[['hr', 'temp', 'hum', 'windspeed','workingday', 'weathersit' ]].copy()\n",
        "\n",
        "    X['hr_sin'] =  X['hr'].apply(lambda x: np.sin(2 * np.pi * x / 24))\n",
        "    X['hr_cos'] =  X['hr'].apply(lambda x: np.cos(2 * np.pi * x / 24))\n",
        "    X['temp2'] = (X['temp'] - 0.6)**2\n",
        "    y = df['cnt']\n",
        "    return X,y\n",
        "\n",
        "def encode_cols(X, cols):\n",
        "    mlflow.log_param('encoded_columns', cols)\n",
        "    encoder = OneHotEncoder(sparse=False)\n",
        "    X_encoded = encoder.fit_transform(X[cols])\n",
        "    X.drop(cols, axis=1, inplace=True)\n",
        "    X_encoded = pd.DataFrame(X_encoded, columns=encoder.get_feature_names_out(cols))\n",
        "    Xe = pd.concat([X, X_encoded], axis=1)\n",
        "    return Xe\n",
        "\n",
        "def solve(model, X, y):\n",
        "    mlflow.sklearn.autolog()\n",
        "    X_train, X_test, y_train, y_test = train_test_split(X, y, test_size=0.2, random_state=42)\n",
        "\n",
        "    model.fit(X_train, y_train)\n",
        "    y_pred = model.predict(X_test)\n",
        "    rmse = np.sqrt(mean_squared_error(y_test, y_pred))\n",
        "    print('Root Mean Squared Error:', rmse)\n",
        "    mlflow.log_metric('rmse', rmse)\n",
        "\n",
        "    # plot the predicted vs. actual values\n",
        "    fig , ax = plt.subplots(1)\n",
        "    ax.scatter(y_test, y_pred, s=2, alpha=0.5)\n",
        "    ax.set_xlabel('Actual Values')\n",
        "    ax.set_ylabel('Predicted Values')\n",
        "    ax.set_title('Predicted vs. Actual Values')\n",
        "    fig.show()\n",
        "    mlflow.log_figure(fig, 'pred-actual.png')\n",
        "    return model\n",
        "\n"
      ]
    },
    {
      "cell_type": "code",
      "execution_count": null,
      "metadata": {
        "gather": {
          "logged": 1682512598406
        }
      },
      "outputs": [],
      "source": [
        "import re \n",
        "\n",
        "mlflow.set_experiment('bike-share-exp')\n",
        "models = [LinearRegression(), RandomForestRegressor(n_estimators=100),RandomForestRegressor(n_estimators=10)]\n",
        "\n",
        "for m in models:\n",
        "    mname = re.sub(\".*'(.*)'.*\", r'\\1', str(type(m)) ).split('.')[-1]\n",
        "    with mlflow.start_run(run_name='notebook-'+mname) as run:\n",
        "        X,y = get_data()\n",
        "        Xe = encode_cols(X, ['workingday', 'weathersit'])\n",
        "        model = solve (m, Xe, y)\n",
        "        mlflow.register_model(f'runs:/{run.info.run_id}/model', mname)"
      ]
    }
  ],
  "metadata": {
    "kernel_info": {
      "name": "python310-sdkv2"
    },
    "kernelspec": {
      "display_name": "Python 3.10 - SDK v2",
      "language": "python",
      "name": "python310-sdkv2"
    },
    "language_info": {
      "codemirror_mode": {
        "name": "ipython",
        "version": 3
      },
      "file_extension": ".py",
      "mimetype": "text/x-python",
      "name": "python",
      "nbconvert_exporter": "python",
      "pygments_lexer": "ipython3",
      "version": "3.10.10"
    },
    "microsoft": {
      "host": {
        "AzureML": {
          "notebookHasBeenCompleted": true
        }
      },
      "ms_spell_check": {
        "ms_spell_check_language": "en"
      }
    },
    "nteract": {
      "version": "nteract-front-end@1.0.0"
    },
    "orig_nbformat": 4
  },
  "nbformat": 4,
  "nbformat_minor": 2
}
