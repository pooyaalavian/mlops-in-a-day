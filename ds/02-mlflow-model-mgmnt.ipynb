{
  "cells": [
    {
      "attachments": {},
      "cell_type": "markdown",
      "source": [
        "# Model Management\n",
        "## Azure ML and MLFlow tracking"
      ],
      "metadata": {}
    },
    {
      "cell_type": "code",
      "source": [
        "# Connect to workspace\r\n",
        "from azure.ai.ml import MLClient\r\n",
        "from azure.identity import DefaultAzureCredential\r\n",
        "import mlflow\r\n",
        "\r\n",
        "credential = DefaultAzureCredential()\r\n",
        "aml_client = MLClient(\r\n",
        "    credential=credential,\r\n",
        "    subscription_id=\"49b5441f-dda4-47a9-81c4-13272430f4ff\",\r\n",
        "    resource_group_name=\"rg-pooya120-dev\",\r\n",
        "    workspace_name=\"amlwpooya120dev\",\r\n",
        ")\r\n",
        "mlf_client = mlflow.tracking.MlflowClient()"
      ],
      "outputs": [],
      "execution_count": null,
      "metadata": {
        "jupyter": {
          "source_hidden": false,
          "outputs_hidden": false
        },
        "nteract": {
          "transient": {
            "deleting": false
          }
        }
      }
    },
    {
      "cell_type": "code",
      "source": [
        "model_name = 'sklearn.ensemble._forest.RandomForestRegressor'\r\n",
        "\r\n",
        "models = [x \r\n",
        "    for x in aml_client.models.list() \r\n",
        "    #if x.name==model_name\r\n",
        "]\r\n",
        "\r\n",
        "for i,m in enumerate(models):\r\n",
        "    print(i, m.name, m.version)"
      ],
      "outputs": [],
      "execution_count": null,
      "metadata": {
        "jupyter": {
          "source_hidden": false,
          "outputs_hidden": false
        },
        "nteract": {
          "transient": {
            "deleting": false
          }
        },
        "gather": {
          "logged": 1682506150174
        }
      }
    },
    {
      "cell_type": "markdown",
      "source": [
        "## How to pick the right model among models?"
      ],
      "metadata": {
        "nteract": {
          "transient": {
            "deleting": false
          }
        }
      }
    },
    {
      "cell_type": "code",
      "source": [
        "# for model in client.search_registered_models():\r\n",
        "#     print(f\"{model.name}\")\r\n",
        "\r\n",
        "mlf_client.search_registered_models(f\"name='{model_name}'\")\r\n",
        "models = mlf_client.search_model_versions(f\"name='{model_name}'\")\r\n",
        "\r\n",
        "m3 = mlf_client.get_model_version(model_name, 3) \r\n",
        "m2 = mlf_client.get_model_version(model_name, 2)\r\n",
        "m1 = mlf_client.get_model_version(model_name, 1)\r\n",
        "\r\n",
        "for m in [m1,m2,m3]:\r\n",
        "    run = mlf_client.get_run(m.run_id)\r\n",
        "    r2 = run.data.metrics['training_r2_score']\r\n",
        "    print(m.version, r2)"
      ],
      "outputs": [],
      "execution_count": null,
      "metadata": {
        "jupyter": {
          "source_hidden": false,
          "outputs_hidden": false
        },
        "nteract": {
          "transient": {
            "deleting": false
          }
        },
        "gather": {
          "logged": 1682506792938
        }
      }
    },
    {
      "cell_type": "code",
      "source": [
        "# find the model currently in production\r\n",
        "endpoint_name = 'my-endpoint2'\r\n",
        "deployment_name = 'blue2'\r\n",
        "new_model_version = 3\r\n",
        "\r\n",
        "from azure.ai.ml.entities import Model\r\n",
        "\r\n",
        "def get_model_from_uri(uri):\r\n",
        "    tokens = uri.split('/')\r\n",
        "    tid = tokens.index('models')\r\n",
        "    model = tokens[tid+1]\r\n",
        "    vid = tokens.index('versions')\r\n",
        "    version = tokens[vid+1]\r\n",
        "    return aml_client.models.get(model,version)\r\n",
        "\r\n",
        "def get_deployed_model(endpoint_name, deployment_name)->Model:\r\n",
        "    endpoint = aml_client.online_endpoints.get(endpoint_name)\r\n",
        "    deployment = aml_client.online_deployments.get(deployment_name, endpoint.name)\r\n",
        "    deployed_model = get_model_from_uri(deployment.model)\r\n",
        "    return deployed_model\r\n",
        "\r\n",
        "def get_model_run(model: Model):\r\n",
        "    client = mlflow.tracking.MlflowClient()\r\n",
        "    return client.get_run(model.job_name)\r\n",
        "\r\n",
        "def compare_models(old_model, new_model, metrics):\r\n",
        "    old_run = get_model_run(old_model)\r\n",
        "    new_run = get_model_run(new_model)\r\n",
        "    for metric in metrics:\r\n",
        "        print(f'- {metric}: {old_run.data.metrics[metric]}  vs {old_run.data.metrics[metric]}')\r\n",
        "\r\n",
        "deployed_model = get_deployed_model(endpoint_name, deployment_name)\r\n",
        "\r\n",
        "\r\n",
        "new_model = aml_client.models.get(model_name, new_model_version)\r\n",
        "\r\n",
        "compare_models( deployed_model, new_model, [\r\n",
        "    'training_mean_squared_error',\r\n",
        "    'training_mean_absolute_error', \r\n",
        "    'training_r2_score', \r\n",
        "    'training_root_mean_squared_error', \r\n",
        "    'training_score'\r\n",
        "])"
      ],
      "outputs": [],
      "execution_count": null,
      "metadata": {
        "jupyter": {
          "source_hidden": false,
          "outputs_hidden": false
        },
        "nteract": {
          "transient": {
            "deleting": false
          }
        },
        "gather": {
          "logged": 1682508534057
        }
      }
    },
    {
      "cell_type": "code",
      "source": [
        "from azure.ai.ml.entities import (\r\n",
        "    ManagedOnlineEndpoint,\r\n",
        "    ManagedOnlineDeployment,\r\n",
        "    Model,\r\n",
        "    Environment,\r\n",
        "    CodeConfiguration,\r\n",
        ")\r\n"
      ],
      "outputs": [],
      "execution_count": null,
      "metadata": {
        "jupyter": {
          "source_hidden": false,
          "outputs_hidden": false
        },
        "nteract": {
          "transient": {
            "deleting": false
          }
        },
        "gather": {
          "logged": 1682497865411
        }
      }
    },
    {
      "cell_type": "code",
      "source": [
        "%%writefile score/conda.yml\r\n",
        "name: model-env\r\n",
        "channels:\r\n",
        "  - conda-forge\r\n",
        "dependencies:\r\n",
        "  - python=3.8\r\n",
        "  - numpy=1.21.2\r\n",
        "  - pip=21.2.4\r\n",
        "  - scikit-learn=0.24.2\r\n",
        "  - scipy=1.7.1\r\n",
        "  - pandas>=1.1,<1.2\r\n",
        "  - pip:\r\n",
        "    - azureml-defaults>=1.42.0\r\n",
        "    - azureml-inference-server-http\r\n",
        "    - inference-schema[numpy-support]==1.3.0\r\n",
        "    - xlrd==2.0.1\r\n",
        "    - mlflow== 1.26.1\r\n",
        "    - azureml-mlflow==1.42.0\r\n",
        "    - psutil>=5.8,<5.9\r\n",
        "    - tqdm>=4.59,<4.60\r\n",
        "    - ipykernel~=6.0\r\n",
        "    - matplotlib"
      ],
      "outputs": [],
      "execution_count": null,
      "metadata": {
        "jupyter": {
          "source_hidden": false,
          "outputs_hidden": false
        },
        "nteract": {
          "transient": {
            "deleting": false
          }
        }
      }
    },
    {
      "cell_type": "code",
      "source": [
        "from azure.ai.ml.entities import Environment\r\n",
        "\r\n",
        "custom_env_name = \"bike-share-env\"\r\n",
        "\r\n",
        "env = Environment(\r\n",
        "    name=custom_env_name,\r\n",
        "    description=\"Custom environment for Bike Share pipeline\",\r\n",
        "    tags={\"scikit-learn\": \"0.24.2\"},\r\n",
        "    conda_file= \"score/conda.yml\",\r\n",
        "    image=\"mcr.microsoft.com/azureml/openmpi3.1.2-ubuntu18.04:latest\",\r\n",
        ")\r\n",
        "env = ml_client.environments.create_or_update(env)\r\n",
        "\r\n",
        "print(\r\n",
        "    f\"Environment {env.name} registered to workspace. \"\r\n",
        "    f\"Environment version is {env.version}.\"\r\n",
        ")"
      ],
      "outputs": [],
      "execution_count": null,
      "metadata": {
        "jupyter": {
          "source_hidden": false,
          "outputs_hidden": false
        },
        "nteract": {
          "transient": {
            "deleting": false
          }
        },
        "gather": {
          "logged": 1682500957987
        }
      }
    },
    {
      "cell_type": "code",
      "source": [
        "# Define an endpoint name\r\n",
        "endpoint_name = \"my-endpoint2\"\r\n",
        "\r\n",
        "# create an online endpoint\r\n",
        "endpoint = ManagedOnlineEndpoint(\r\n",
        "    name = endpoint_name, \r\n",
        "    description=\"Bike share endpoint\",\r\n",
        "    auth_mode=\"key\",\r\n",
        ")\r\n",
        "\r\n",
        "ml_client.online_endpoints.begin_create_or_update(endpoint, ).result()"
      ],
      "outputs": [],
      "execution_count": null,
      "metadata": {
        "jupyter": {
          "source_hidden": false,
          "outputs_hidden": false
        },
        "nteract": {
          "transient": {
            "deleting": false
          }
        },
        "gather": {
          "logged": 1682500425078
        }
      }
    },
    {
      "cell_type": "code",
      "source": [
        "model = ml_client.models.get('sklearn.ensemble._forest.RandomForestRegressor',1)\r\n",
        "# env = ml_client.environments.get('aml-scikit-learn', 1)\r\n",
        "\r\n",
        "deployment = ManagedOnlineDeployment(\r\n",
        "    name=\"blue2\",\r\n",
        "    endpoint_name=endpoint_name,\r\n",
        "    model=model,\r\n",
        "    environment=env,\r\n",
        "    code_configuration=CodeConfiguration(\r\n",
        "        code=\"./score\", scoring_script=\"score.py\"\r\n",
        "    ),\r\n",
        "    instance_type=\"Standard_DS3_v2\",\r\n",
        "    instance_count=1,\r\n",
        "    app_insights_enabled=True,\r\n",
        ")\r\n",
        "ml_client.online_deployments.begin_create_or_update(deployment=deployment, ).result()"
      ],
      "outputs": [],
      "execution_count": null,
      "metadata": {
        "jupyter": {
          "source_hidden": false,
          "outputs_hidden": false
        },
        "nteract": {
          "transient": {
            "deleting": false
          }
        },
        "gather": {
          "logged": 1682501805282
        }
      }
    },
    {
      "cell_type": "code",
      "source": [
        "X,y = get_data()\r\n",
        "Xe = encode_cols(X, ['workingday', 'weathersit'])"
      ],
      "outputs": [],
      "execution_count": null,
      "metadata": {
        "jupyter": {
          "source_hidden": false,
          "outputs_hidden": false
        },
        "nteract": {
          "transient": {
            "deleting": false
          }
        },
        "gather": {
          "logged": 1682502262997
        }
      }
    },
    {
      "cell_type": "code",
      "source": [
        "Xe[0:10].to_numpy()\r\n"
      ],
      "outputs": [],
      "execution_count": null,
      "metadata": {
        "jupyter": {
          "source_hidden": false,
          "outputs_hidden": false
        },
        "nteract": {
          "transient": {
            "deleting": false
          }
        },
        "gather": {
          "logged": 1682502267305
        }
      }
    }
  ],
  "metadata": {
    "kernelspec": {
      "name": "python310-sdkv2",
      "language": "python",
      "display_name": "Python 3.10 - SDK v2"
    },
    "language_info": {
      "name": "python",
      "version": "3.10.10",
      "mimetype": "text/x-python",
      "codemirror_mode": {
        "name": "ipython",
        "version": 3
      },
      "pygments_lexer": "ipython3",
      "nbconvert_exporter": "python",
      "file_extension": ".py"
    },
    "orig_nbformat": 4,
    "microsoft": {
      "ms_spell_check": {
        "ms_spell_check_language": "en"
      },
      "host": {
        "AzureML": {
          "notebookHasBeenCompleted": true
        }
      }
    },
    "kernel_info": {
      "name": "python310-sdkv2"
    },
    "nteract": {
      "version": "nteract-front-end@1.0.0"
    }
  },
  "nbformat": 4,
  "nbformat_minor": 2
}