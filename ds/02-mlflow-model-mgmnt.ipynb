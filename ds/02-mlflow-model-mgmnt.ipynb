{
  "cells": [
    {
      "attachments": {},
      "cell_type": "markdown",
      "metadata": {},
      "source": [
        "# Model Management\n",
        "## Azure ML and MLFlow tracking"
      ]
    },
    {
      "cell_type": "code",
      "execution_count": null,
      "metadata": {
        "gather": {
          "logged": 1682513216118
        },
        "jupyter": {
          "outputs_hidden": false,
          "source_hidden": false
        },
        "nteract": {
          "transient": {
            "deleting": false
          }
        }
      },
      "outputs": [],
      "source": [
        "# Connect to workspace\n",
        "from azure.ai.ml import MLClient\n",
        "from azure.identity import DefaultAzureCredential\n",
        "import mlflow\n",
        "\n",
        "credential = DefaultAzureCredential()\n",
        "aml_client = MLClient(\n",
        "    credential=credential,\n",
        "    subscription_id=\"...\",\n",
        "    resource_group_name=\"...\",\n",
        "    workspace_name=\"...\",\n",
        ")\n",
        "mlf_client = mlflow.tracking.MlflowClient()"
      ]
    },
    {
      "cell_type": "code",
      "execution_count": null,
      "metadata": {
        "gather": {
          "logged": 1682513348478
        },
        "jupyter": {
          "outputs_hidden": false,
          "source_hidden": false
        },
        "nteract": {
          "transient": {
            "deleting": false
          }
        }
      },
      "outputs": [],
      "source": [
        "model_name = 'sklearn.ensemble._forest.RandomForestRegressor'\n",
        "\n",
        "models = [x \n",
        "    for x in aml_client.models.list() \n",
        "    if x.name==model_name\n",
        "]\n",
        "\n",
        "for i,m in enumerate(models):\n",
        "    print(i, m.name, m.latest_version)"
      ]
    },
    {
      "attachments": {},
      "cell_type": "markdown",
      "metadata": {
        "nteract": {
          "transient": {
            "deleting": false
          }
        }
      },
      "source": [
        "## How to pick the right model among models?"
      ]
    },
    {
      "cell_type": "code",
      "execution_count": null,
      "metadata": {
        "gather": {
          "logged": 1682515011172
        },
        "jupyter": {
          "outputs_hidden": false,
          "source_hidden": false
        },
        "nteract": {
          "transient": {
            "deleting": false
          }
        }
      },
      "outputs": [],
      "source": [
        "# for model in client.search_registered_models():\n",
        "#     print(f\"{model.name}\")\n",
        "\n",
        "mlf_client.search_registered_models(f\"name='{model_name}'\")\n",
        "models = mlf_client.search_model_versions(f\"name='{model_name}'\")\n",
        "\n",
        "# m3 = mlf_client.get_model_version(model_name, 3) \n",
        "m2 = mlf_client.get_model_version(model_name, 5)\n",
        "m1 = mlf_client.get_model_version(model_name, 4)\n",
        "\n",
        "def get_rmse(m):\n",
        "    run = mlf_client.get_run(m.run_id)\n",
        "    r = run.data.metrics['rmse']\n",
        "    return r\n",
        "\n",
        "candidate_model = None\n",
        "if get_rmse(m1)<get_rmse(m2):\n",
        "    # deploy m1\n",
        "    candidate_model = m1\n",
        "else:\n",
        "    # deploy m2\n",
        "    candidate_model = m2\n",
        "\n",
        "print(f'Deploy model \"{candidate_model.name}\" version \"{candidate_model.version}\" ')"
      ]
    },
    {
      "cell_type": "code",
      "execution_count": null,
      "metadata": {
        "gather": {
          "logged": 1682515087139
        },
        "jupyter": {
          "outputs_hidden": false,
          "source_hidden": false
        },
        "nteract": {
          "transient": {
            "deleting": false
          }
        }
      },
      "outputs": [],
      "source": [
        "# find the model currently in production\n",
        "endpoint_name = 'my-endpoint2'\n",
        "deployment_name = 'blue2'\n",
        "\n",
        "\n",
        "from azure.ai.ml.entities import Model\n",
        "\n",
        "def get_model_from_uri(uri):\n",
        "    tokens = uri.split('/')\n",
        "    tid = tokens.index('models')\n",
        "    model = tokens[tid+1]\n",
        "    vid = tokens.index('versions')\n",
        "    version = tokens[vid+1]\n",
        "    return aml_client.models.get(model, version)\n",
        "\n",
        "def get_deployed_model(endpoint_name, deployment_name)->Model:\n",
        "    endpoint = aml_client.online_endpoints.get(endpoint_name)\n",
        "    deployment = aml_client.online_deployments.get(deployment_name, endpoint.name)\n",
        "    deployed_model = get_model_from_uri(deployment.model)\n",
        "    return deployed_model\n",
        "\n",
        "def get_model_run(model: Model):\n",
        "    client = mlflow.tracking.MlflowClient()\n",
        "    return client.get_run(model.job_name)\n",
        "\n",
        "def compare_models(old_model, new_model, metrics):\n",
        "    old_run = get_model_run(old_model)\n",
        "    new_run = get_model_run(new_model)\n",
        "    for metric in metrics:\n",
        "        print(f'- {metric}: {old_run.data.metrics.get(metric)}  vs {new_run.data.metrics.get(metric)}')\n",
        "\n",
        "deployed_model = get_deployed_model(endpoint_name, deployment_name)\n",
        "\n",
        "\n",
        "new_model = aml_client.models.get(candidate_model.name, candidate_model.version)\n",
        "\n",
        "compare_models( deployed_model, new_model, [\n",
        "    'training_mean_squared_error',\n",
        "    'training_mean_absolute_error', \n",
        "    'training_r2_score', \n",
        "    'training_root_mean_squared_error', \n",
        "    'training_score','rmse'\n",
        "])"
      ]
    }
  ],
  "metadata": {
    "kernel_info": {
      "name": "python310-sdkv2"
    },
    "kernelspec": {
      "display_name": "Python 3.10 - SDK v2",
      "language": "python",
      "name": "python310-sdkv2"
    },
    "language_info": {
      "codemirror_mode": {
        "name": "ipython",
        "version": 3
      },
      "file_extension": ".py",
      "mimetype": "text/x-python",
      "name": "python",
      "nbconvert_exporter": "python",
      "pygments_lexer": "ipython3",
      "version": "3.10.10"
    },
    "microsoft": {
      "host": {
        "AzureML": {
          "notebookHasBeenCompleted": true
        }
      },
      "ms_spell_check": {
        "ms_spell_check_language": "en"
      }
    },
    "nteract": {
      "version": "nteract-front-end@1.0.0"
    },
    "orig_nbformat": 4
  },
  "nbformat": 4,
  "nbformat_minor": 2
}
