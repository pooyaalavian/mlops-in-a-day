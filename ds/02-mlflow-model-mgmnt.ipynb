{
  "cells": [
    {
      "attachments": {},
      "cell_type": "markdown",
      "source": [
        "# Model Management\n",
        "## Azure ML and MLFlow tracking"
      ],
      "metadata": {}
    },
    {
      "cell_type": "code",
      "source": [
        "# Connect to workspace\r\n",
        "from azure.ai.ml import MLClient\r\n",
        "from azure.identity import DefaultAzureCredential\r\n",
        "import mlflow\r\n",
        "\r\n",
        "credential = DefaultAzureCredential()\r\n",
        "aml_client = MLClient(\r\n",
        "    credential=credential,\r\n",
        "    subscription_id=\"49b5441f-dda4-47a9-81c4-13272430f4ff\",\r\n",
        "    resource_group_name=\"rg-pooya120-dev\",\r\n",
        "    workspace_name=\"amlwpooya120dev\",\r\n",
        ")\r\n",
        "mlf_client = mlflow.tracking.MlflowClient()"
      ],
      "outputs": [],
      "execution_count": 1,
      "metadata": {
        "jupyter": {
          "source_hidden": false,
          "outputs_hidden": false
        },
        "nteract": {
          "transient": {
            "deleting": false
          }
        },
        "gather": {
          "logged": 1682513216118
        }
      }
    },
    {
      "cell_type": "code",
      "source": [
        "model_name = 'sklearn.ensemble._forest.RandomForestRegressor'\r\n",
        "\r\n",
        "models = [x \r\n",
        "    for x in aml_client.models.list() \r\n",
        "    if x.name==model_name\r\n",
        "]\r\n",
        "\r\n",
        "for i,m in enumerate(models):\r\n",
        "    print(i, m.name, m.latest_version)"
      ],
      "outputs": [
        {
          "output_type": "stream",
          "name": "stdout",
          "text": "0 sklearn.ensemble._forest.RandomForestRegressor 5\n"
        }
      ],
      "execution_count": 5,
      "metadata": {
        "jupyter": {
          "source_hidden": false,
          "outputs_hidden": false
        },
        "nteract": {
          "transient": {
            "deleting": false
          }
        },
        "gather": {
          "logged": 1682513348478
        }
      }
    },
    {
      "cell_type": "markdown",
      "source": [
        "## How to pick the right model among models?"
      ],
      "metadata": {
        "nteract": {
          "transient": {
            "deleting": false
          }
        }
      }
    },
    {
      "cell_type": "code",
      "source": [
        "# for model in client.search_registered_models():\r\n",
        "#     print(f\"{model.name}\")\r\n",
        "\r\n",
        "mlf_client.search_registered_models(f\"name='{model_name}'\")\r\n",
        "models = mlf_client.search_model_versions(f\"name='{model_name}'\")\r\n",
        "\r\n",
        "# m3 = mlf_client.get_model_version(model_name, 3) \r\n",
        "m2 = mlf_client.get_model_version(model_name, 5)\r\n",
        "m1 = mlf_client.get_model_version(model_name, 4)\r\n",
        "\r\n",
        "def get_rmse(m):\r\n",
        "    run = mlf_client.get_run(m.run_id)\r\n",
        "    r = run.data.metrics['rmse']\r\n",
        "    return r\r\n",
        "\r\n",
        "candidate_model = None\r\n",
        "if get_rmse(m1)<get_rmse(m2):\r\n",
        "    # deploy m1\r\n",
        "    candidate_model = m1\r\n",
        "else:\r\n",
        "    # deploy m2\r\n",
        "    candidate_model = m2\r\n",
        "\r\n",
        "print(f'Deploy model \"{candidate_model.name}\" version \"{candidate_model.version}\" ')"
      ],
      "outputs": [
        {
          "output_type": "stream",
          "name": "stdout",
          "text": "Deploy model \"sklearn.ensemble._forest.RandomForestRegressor\" version \"4\" \n"
        }
      ],
      "execution_count": 9,
      "metadata": {
        "jupyter": {
          "source_hidden": false,
          "outputs_hidden": false
        },
        "nteract": {
          "transient": {
            "deleting": false
          }
        },
        "gather": {
          "logged": 1682515011172
        }
      }
    },
    {
      "cell_type": "code",
      "source": [
        "# find the model currently in production\r\n",
        "endpoint_name = 'my-endpoint2'\r\n",
        "deployment_name = 'blue2'\r\n",
        "\r\n",
        "\r\n",
        "from azure.ai.ml.entities import Model\r\n",
        "\r\n",
        "def get_model_from_uri(uri):\r\n",
        "    tokens = uri.split('/')\r\n",
        "    tid = tokens.index('models')\r\n",
        "    model = tokens[tid+1]\r\n",
        "    vid = tokens.index('versions')\r\n",
        "    version = tokens[vid+1]\r\n",
        "    return aml_client.models.get(model, version)\r\n",
        "\r\n",
        "def get_deployed_model(endpoint_name, deployment_name)->Model:\r\n",
        "    endpoint = aml_client.online_endpoints.get(endpoint_name)\r\n",
        "    deployment = aml_client.online_deployments.get(deployment_name, endpoint.name)\r\n",
        "    deployed_model = get_model_from_uri(deployment.model)\r\n",
        "    return deployed_model\r\n",
        "\r\n",
        "def get_model_run(model: Model):\r\n",
        "    client = mlflow.tracking.MlflowClient()\r\n",
        "    return client.get_run(model.job_name)\r\n",
        "\r\n",
        "def compare_models(old_model, new_model, metrics):\r\n",
        "    old_run = get_model_run(old_model)\r\n",
        "    new_run = get_model_run(new_model)\r\n",
        "    for metric in metrics:\r\n",
        "        print(f'- {metric}: {old_run.data.metrics.get(metric)}  vs {new_run.data.metrics.get(metric)}')\r\n",
        "\r\n",
        "deployed_model = get_deployed_model(endpoint_name, deployment_name)\r\n",
        "\r\n",
        "\r\n",
        "new_model = aml_client.models.get(candidate_model.name, candidate_model.version)\r\n",
        "\r\n",
        "compare_models( deployed_model, new_model, [\r\n",
        "    'training_mean_squared_error',\r\n",
        "    'training_mean_absolute_error', \r\n",
        "    'training_r2_score', \r\n",
        "    'training_root_mean_squared_error', \r\n",
        "    'training_score','rmse'\r\n",
        "])"
      ],
      "outputs": [
        {
          "output_type": "stream",
          "name": "stdout",
          "text": "- training_mean_squared_error: 944.7083439908545  vs 944.444921413917\n- training_mean_absolute_error: 19.533885273107977  vs 19.494397421674126\n- training_r2_score: 0.9715465790522915  vs 0.9715545130072697\n- training_root_mean_squared_error: 30.736108146459507  vs 30.73182261783243\n- training_score: 0.9715465790522915  vs 0.9715545130072697\n- rmse: None  vs 76.90347783551329\n"
        }
      ],
      "execution_count": 12,
      "metadata": {
        "jupyter": {
          "source_hidden": false,
          "outputs_hidden": false
        },
        "nteract": {
          "transient": {
            "deleting": false
          }
        },
        "gather": {
          "logged": 1682515087139
        }
      }
    }
  ],
  "metadata": {
    "kernelspec": {
      "name": "python310-sdkv2",
      "language": "python",
      "display_name": "Python 3.10 - SDK v2"
    },
    "language_info": {
      "name": "python",
      "version": "3.10.10",
      "mimetype": "text/x-python",
      "codemirror_mode": {
        "name": "ipython",
        "version": 3
      },
      "pygments_lexer": "ipython3",
      "nbconvert_exporter": "python",
      "file_extension": ".py"
    },
    "orig_nbformat": 4,
    "microsoft": {
      "ms_spell_check": {
        "ms_spell_check_language": "en"
      },
      "host": {
        "AzureML": {
          "notebookHasBeenCompleted": true
        }
      }
    },
    "kernel_info": {
      "name": "python310-sdkv2"
    },
    "nteract": {
      "version": "nteract-front-end@1.0.0"
    }
  },
  "nbformat": 4,
  "nbformat_minor": 2
}