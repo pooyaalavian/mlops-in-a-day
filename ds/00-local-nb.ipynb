{
  "cells": [
    {
      "attachments": {},
      "cell_type": "markdown",
      "metadata": {},
      "source": [
        "# Data Exploration\n",
        "## Local machine"
      ]
    },
    {
      "cell_type": "code",
      "execution_count": null,
      "metadata": {
        "gather": {
          "logged": 1682511574671
        }
      },
      "outputs": [],
      "source": [
        "import pandas as pd\n",
        "df = pd.read_csv('../data/day.csv')\n",
        "df['date'] = df['dteday'].astype('datetime64[s]')\n",
        "df.plot('date',['cnt', ])\n"
      ]
    },
    {
      "cell_type": "code",
      "execution_count": null,
      "metadata": {
        "gather": {
          "logged": 1682511608434
        }
      },
      "outputs": [],
      "source": [
        "df.plot('date', 'temp')\n",
        "df.plot( 'temp', 'cnt', kind='scatter')"
      ]
    },
    {
      "cell_type": "code",
      "execution_count": null,
      "metadata": {
        "gather": {
          "logged": 1682511646382
        }
      },
      "outputs": [],
      "source": [
        "df[df.yr==0].plot( 'temp', 'cnt', kind='scatter')\n",
        "df[df.yr==1].plot( 'temp', 'cnt', kind='scatter')\n"
      ]
    },
    {
      "cell_type": "code",
      "execution_count": null,
      "metadata": {
        "gather": {
          "logged": 1682511722293
        }
      },
      "outputs": [],
      "source": [
        "df['temp2'] = (df['temp']-0.6)**2\n",
        "df[df.yr==1].plot( 'temp2', 'cnt', kind='scatter')\n"
      ]
    },
    {
      "cell_type": "code",
      "execution_count": null,
      "metadata": {
        "gather": {
          "logged": 1682511894147
        }
      },
      "outputs": [],
      "source": [
        "import pandas as pd\n",
        "import numpy as np\n",
        "import matplotlib.pyplot as plt\n",
        "from sklearn.linear_model import LinearRegression\n",
        "from sklearn.ensemble import RandomForestRegressor\n",
        "from sklearn.metrics import mean_squared_error\n",
        "from sklearn.preprocessing import OneHotEncoder\n",
        "from sklearn.model_selection import train_test_split\n",
        "\n",
        "# load data\n",
        "\n",
        "def get_data():\n",
        "    df = pd.read_csv('../data/hour.csv')\n",
        "    X = df[['hr', 'temp', 'hum', 'windspeed','workingday', 'weathersit' ]]\n",
        "    X['hr_sin'] =  X['hr'].apply(lambda x: np.sin(2 * np.pi * x / 24))\n",
        "    X['hr_cos'] =  X['hr'].apply(lambda x: np.cos(2 * np.pi * x / 24))\n",
        "    X['temp2'] = (X['temp'] - 0.6)**2\n",
        "    y = df['cnt']\n",
        "    return X, y\n",
        "\n",
        "def encode_cols(X, cols=[]):\n",
        "    if len(cols)==0:\n",
        "        return X\n",
        "    encoder = OneHotEncoder(sparse=False)\n",
        "    X_encoded = encoder.fit_transform(X[cols])\n",
        "    X.drop(cols, axis=1, inplace=True)\n",
        "    X_encoded = pd.DataFrame(X_encoded, columns=encoder.get_feature_names_out(cols))\n",
        "    Xe = pd.concat([X, X_encoded], axis=1)\n",
        "    return Xe\n",
        "\n",
        "def solve(model, X, y):\n",
        "    X_train, X_test, y_train, y_test = train_test_split(X, y, test_size=0.2, random_state=42)\n",
        "\n",
        "    model.fit(X_train, y_train)\n",
        "    y_pred = model.predict(X_test)\n",
        "    rmse = np.sqrt(mean_squared_error(y_test, y_pred))\n",
        "    print('Root Mean Squared Error:', rmse)\n",
        "\n",
        "    # plot the predicted vs. actual values\n",
        "    fig , ax = plt.subplots(1)\n",
        "    ax.scatter(y_test, y_pred,s=2, alpha=0.5)\n",
        "    ax.set_xlabel('Actual Values')\n",
        "    ax.set_ylabel('Predicted Values')\n",
        "    ax.set_title('Predicted vs. Actual Values')\n",
        "    fig.show()\n"
      ]
    },
    {
      "cell_type": "code",
      "execution_count": null,
      "metadata": {
        "gather": {
          "logged": 1682511965546
        }
      },
      "outputs": [],
      "source": [
        "\n",
        "models = [\n",
        "    LinearRegression(fit_intercept=False), \n",
        "    RandomForestRegressor(n_estimators=10)\n",
        "]\n",
        "\n",
        "for m in models:\n",
        "    X,y = get_data()\n",
        "    Xe = encode_cols(X, ['workingday', 'weathersit'])\n",
        "    solve (m, Xe, y)"
      ]
    },
    {
      "cell_type": "code",
      "execution_count": null,
      "metadata": {},
      "outputs": [],
      "source": [
        "LinearRegression 132\n",
        "RandomForest(100) 76\n",
        "RandomForest(10) 79"
      ]
    }
  ],
  "metadata": {
    "kernel_info": {
      "name": "python310-sdkv2"
    },
    "kernelspec": {
      "display_name": "venv",
      "language": "python",
      "name": "python3"
    },
    "language_info": {
      "codemirror_mode": {
        "name": "ipython",
        "version": 3
      },
      "file_extension": ".py",
      "mimetype": "text/x-python",
      "name": "python",
      "nbconvert_exporter": "python",
      "pygments_lexer": "ipython3",
      "version": "3.9.7"
    },
    "microsoft": {
      "host": {
        "AzureML": {
          "notebookHasBeenCompleted": true
        }
      },
      "ms_spell_check": {
        "ms_spell_check_language": "en"
      }
    },
    "nteract": {
      "version": "nteract-front-end@1.0.0"
    },
    "orig_nbformat": 4
  },
  "nbformat": 4,
  "nbformat_minor": 2
}
