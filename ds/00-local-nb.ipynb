{
  "cells": [
    {
      "attachments": {},
      "cell_type": "markdown",
      "source": [
        "# Data Exploration\n",
        "## Local machine"
      ],
      "metadata": {}
    },
    {
      "cell_type": "code",
      "source": [
        "import pandas as pd\n",
        "df = pd.read_csv('../data/day.csv')\n",
        "df['date'] = df['dteday'].astype('datetime64[s]')\n",
        "df.plot('date',['cnt', ])\n"
      ],
      "outputs": [],
      "execution_count": null,
      "metadata": {
        "gather": {
          "logged": 1682511574671
        }
      }
    },
    {
      "cell_type": "code",
      "source": [
        "df.plot('date', 'temp')\n",
        "df.plot( 'temp', 'cnt', kind='scatter')"
      ],
      "outputs": [],
      "execution_count": null,
      "metadata": {
        "gather": {
          "logged": 1682511608434
        }
      }
    },
    {
      "cell_type": "code",
      "source": [
        "df[df.yr==0].plot( 'temp', 'cnt', kind='scatter')\n",
        "df[df.yr==1].plot( 'temp', 'cnt', kind='scatter')\n"
      ],
      "outputs": [],
      "execution_count": null,
      "metadata": {
        "gather": {
          "logged": 1682511646382
        }
      }
    },
    {
      "cell_type": "code",
      "source": [
        "df['temp2'] = (df['temp']-0.6)**2\n",
        "df[df.yr==1].plot( 'temp2', 'cnt', kind='scatter')\n"
      ],
      "outputs": [],
      "execution_count": null,
      "metadata": {
        "gather": {
          "logged": 1682511722293
        }
      }
    },
    {
      "cell_type": "code",
      "source": [
        "import pandas as pd\n",
        "import numpy as np\n",
        "import matplotlib.pyplot as plt\n",
        "from sklearn.linear_model import LinearRegression\n",
        "from sklearn.ensemble import RandomForestRegressor\n",
        "from sklearn.metrics import mean_squared_error\n",
        "from sklearn.preprocessing import OneHotEncoder\n",
        "from sklearn.model_selection import train_test_split\n",
        "\n",
        "# load data\n",
        "\n",
        "def get_data():\n",
        "    df = pd.read_csv('../data/hour.csv')\n",
        "    X = df[['hr', 'temp', 'hum', 'windspeed','workingday', 'weathersit' ]]\n",
        "    X['hr_sin'] =  X['hr'].apply(lambda x: np.sin(2 * np.pi * x / 24))\n",
        "    X['hr_cos'] =  X['hr'].apply(lambda x: np.cos(2 * np.pi * x / 24))\n",
        "    X['temp2'] = (X['temp'] - 0.6)**2\n",
        "    y = df['cnt']\n",
        "    return X, y\n",
        "\n",
        "def encode_cols(X, cols=[]):\n",
        "    if len(cols)==0:\n",
        "        return X\n",
        "    encoder = OneHotEncoder(sparse=False)\n",
        "    X_encoded = encoder.fit_transform(X[cols])\n",
        "    X.drop(cols, axis=1, inplace=True)\n",
        "    X_encoded = pd.DataFrame(X_encoded, columns=encoder.get_feature_names_out(cols))\n",
        "    Xe = pd.concat([X, X_encoded], axis=1)\n",
        "    return Xe\n",
        "\n",
        "def solve(model, X, y):\n",
        "    X_train, X_test, y_train, y_test = train_test_split(X, y, test_size=0.2, random_state=42)\n",
        "\n",
        "    model.fit(X_train, y_train)\n",
        "    y_pred = model.predict(X_test)\n",
        "    rmse = np.sqrt(mean_squared_error(y_test, y_pred))\n",
        "    print('Root Mean Squared Error:', rmse)\n",
        "\n",
        "    # plot the predicted vs. actual values\n",
        "    fig , ax = plt.subplots(1)\n",
        "    ax.scatter(y_test, y_pred,s=2, alpha=0.5)\n",
        "    ax.set_xlabel('Actual Values')\n",
        "    ax.set_ylabel('Predicted Values')\n",
        "    ax.set_title('Predicted vs. Actual Values')\n",
        "    fig.show()\n"
      ],
      "outputs": [],
      "execution_count": null,
      "metadata": {
        "gather": {
          "logged": 1682511894147
        }
      }
    },
    {
      "cell_type": "code",
      "source": [
        "\n",
        "models = [\n",
        "    LinearRegression(), \n",
        "    RandomForestRegressor(n_estimators=100)\n",
        "]\n",
        "\n",
        "for m in models:\n",
        "    X,y = get_data()\n",
        "    Xe = encode_cols(X, ['workingday', 'weathersit'])\n",
        "    solve (m, Xe, y)"
      ],
      "outputs": [],
      "execution_count": null,
      "metadata": {
        "gather": {
          "logged": 1682511965546
        }
      }
    },
    {
      "cell_type": "code",
      "source": [],
      "outputs": [],
      "execution_count": null,
      "metadata": {}
    }
  ],
  "metadata": {
    "kernelspec": {
      "name": "python310-sdkv2",
      "language": "python",
      "display_name": "Python 3.10 - SDK v2"
    },
    "language_info": {
      "name": "python",
      "version": "3.10.10",
      "mimetype": "text/x-python",
      "codemirror_mode": {
        "name": "ipython",
        "version": 3
      },
      "pygments_lexer": "ipython3",
      "nbconvert_exporter": "python",
      "file_extension": ".py"
    },
    "orig_nbformat": 4,
    "microsoft": {
      "ms_spell_check": {
        "ms_spell_check_language": "en"
      },
      "host": {
        "AzureML": {
          "notebookHasBeenCompleted": true
        }
      }
    },
    "kernel_info": {
      "name": "python310-sdkv2"
    },
    "nteract": {
      "version": "nteract-front-end@1.0.0"
    }
  },
  "nbformat": 4,
  "nbformat_minor": 2
}