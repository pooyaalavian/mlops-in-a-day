{
  "cells": [
    {
      "attachments": {},
      "cell_type": "markdown",
      "source": [
        "# Model Deployment\n",
        "## Azure ML and MLFlow tracking"
      ],
      "metadata": {}
    },
    {
      "cell_type": "code",
      "source": [
        "# Deploy model\r\n",
        "# Connect to workspace\r\n",
        "from azure.ai.ml import MLClient\r\n",
        "from azure.identity import DefaultAzureCredential\r\n",
        "\r\n",
        "credential = DefaultAzureCredential()\r\n",
        "ml_client = MLClient(\r\n",
        "    credential=credential,\r\n",
        "    subscription_id=\"49b5441f-dda4-47a9-81c4-13272430f4ff\",\r\n",
        "    resource_group_name=\"rg-pooya120-dev\",\r\n",
        "    workspace_name=\"amlwpooya120dev\",\r\n",
        ")"
      ],
      "outputs": [],
      "execution_count": 5,
      "metadata": {
        "jupyter": {
          "source_hidden": false,
          "outputs_hidden": false
        },
        "nteract": {
          "transient": {
            "deleting": false
          }
        },
        "gather": {
          "logged": 1682513783356
        }
      }
    },
    {
      "cell_type": "code",
      "source": [
        "from azure.ai.ml.entities import (\r\n",
        "    ManagedOnlineEndpoint,\r\n",
        "    ManagedOnlineDeployment,\r\n",
        "    Model,\r\n",
        "    Environment,\r\n",
        "    CodeConfiguration,\r\n",
        ")\r\n",
        "import os\r\n",
        "\r\n",
        "score_dir = './score'\r\n",
        "os.makedirs(score_dir, exist_ok=True)"
      ],
      "outputs": [],
      "execution_count": 6,
      "metadata": {
        "jupyter": {
          "source_hidden": false,
          "outputs_hidden": false
        },
        "nteract": {
          "transient": {
            "deleting": false
          }
        },
        "gather": {
          "logged": 1682513789340
        }
      }
    },
    {
      "cell_type": "code",
      "source": [
        "%%writefile {score_dir}/score.py\r\n",
        "import os\r\n",
        "import logging\r\n",
        "import json\r\n",
        "import numpy\r\n",
        "import joblib\r\n",
        "from sklearn.ensemble import RandomForestRegressor\r\n",
        "from sklearn.metrics import mean_squared_error\r\n",
        "from sklearn.preprocessing import OneHotEncoder\r\n",
        "from sklearn.model_selection import train_test_split\r\n",
        "import requests\r\n",
        "from datetime import datetime\r\n",
        "FN_URL = 'https://fnapppooya120dev.azurewebsites.net/api'\r\n",
        "\r\n",
        "def init():\r\n",
        "    \"\"\"\r\n",
        "    This function is called when the container is initialized/started, typically after create/update of the deployment.\r\n",
        "    You can write the logic here to perform init operations like caching the model in memory\r\n",
        "    \"\"\"\r\n",
        "    global model\r\n",
        "    # AZUREML_MODEL_DIR is an environment variable created during deployment.\r\n",
        "    # It is the path to the model folder (./azureml-models/$MODEL_NAME/$VERSION)\r\n",
        "    model_path = os.path.join(\r\n",
        "        os.getenv(\"AZUREML_MODEL_DIR\"), \"model/model.pkl\"\r\n",
        "    )\r\n",
        "    print(model_path)\r\n",
        "    logging.info(\"Loading model from \"+model_path)\r\n",
        "    # deserialize the model file back into a sklearn model\r\n",
        "    model = joblib.load(model_path)\r\n",
        "    logging.info(\"Init complete\")\r\n",
        "\r\n",
        "\r\n",
        "def run(raw_data):\r\n",
        "    \"\"\"\r\n",
        "    This function is called for every invocation of the endpoint to perform the actual scoring/prediction.\r\n",
        "    In the example we extract the data from the json input and call the scikit-learn model's predict()\r\n",
        "    method and return the result back\r\n",
        "    \"\"\"\r\n",
        "    logging.info(\"Request received\")\r\n",
        "    arr = json.loads(raw_data)\r\n",
        "    payload = []\r\n",
        "    results = []\r\n",
        "    for data in arr:\r\n",
        "        id = data['id']\r\n",
        "        ts = data['ts']\r\n",
        "        inputs = data['inputs']\r\n",
        "        npdata = numpy.array(inputs)\r\n",
        "        value = model.predict(npdata)[0]\r\n",
        "        results.append(value)\r\n",
        "        payload.append({\"id\":id,\"ts\":ts, \"inputs\":json.dumps(inputs), \"value\":value, \"type\":\"prediction\"})\r\n",
        "    logging.info(\"Request processed\")\r\n",
        "    requests.post(FN_URL+'/DataLogger',json=payload)\r\n",
        "    return results\r\n"
      ],
      "outputs": [
        {
          "output_type": "stream",
          "name": "stdout",
          "text": "Overwriting ./score/score.py\n"
        }
      ],
      "execution_count": 15,
      "metadata": {
        "jupyter": {
          "source_hidden": false,
          "outputs_hidden": false
        },
        "nteract": {
          "transient": {
            "deleting": false
          }
        }
      }
    },
    {
      "cell_type": "code",
      "source": [
        "%%writefile {score_dir}/conda.yml\r\n",
        "name: model-env\r\n",
        "channels:\r\n",
        "  - conda-forge\r\n",
        "dependencies:\r\n",
        "  - python=3.8\r\n",
        "  - numpy=1.21.2\r\n",
        "  - pip=21.2.4\r\n",
        "  - scikit-learn=0.24.2\r\n",
        "  - scipy=1.7.1\r\n",
        "  - pandas>=1.1,<1.2\r\n",
        "  - pip:\r\n",
        "    - azureml-defaults>=1.42.0\r\n",
        "    - azureml-inference-server-http\r\n",
        "    - inference-schema[numpy-support]==1.3.0\r\n",
        "    - xlrd==2.0.1\r\n",
        "    - mlflow== 1.26.1\r\n",
        "    - azureml-mlflow==1.42.0\r\n",
        "    - psutil>=5.8,<5.9\r\n",
        "    - tqdm>=4.59,<4.60\r\n",
        "    - ipykernel~=6.0\r\n",
        "    - matplotlib"
      ],
      "outputs": [
        {
          "output_type": "stream",
          "name": "stdout",
          "text": "Overwriting ./score/conda.yml\n"
        }
      ],
      "execution_count": 16,
      "metadata": {
        "jupyter": {
          "source_hidden": false,
          "outputs_hidden": false
        },
        "nteract": {
          "transient": {
            "deleting": false
          }
        }
      }
    },
    {
      "cell_type": "code",
      "source": [
        "from azure.ai.ml.entities import Environment\r\n",
        "\r\n",
        "custom_env_name = \"bike-share-env\"\r\n",
        "\r\n",
        "env = Environment(\r\n",
        "    name=custom_env_name,\r\n",
        "    description=\"Custom environment for Bike Share pipeline\",\r\n",
        "    tags={\"scikit-learn\": \"0.24.2\"},\r\n",
        "    conda_file= \"score/conda.yml\",\r\n",
        "    image=\"mcr.microsoft.com/azureml/openmpi3.1.2-ubuntu18.04:latest\",\r\n",
        ")\r\n",
        "env = ml_client.environments.create_or_update(env)\r\n",
        "\r\n",
        "print(\r\n",
        "    f\"Environment {env.name} registered to workspace. \"\r\n",
        "    f\"Environment version is {env.version}.\"\r\n",
        ")"
      ],
      "outputs": [
        {
          "output_type": "stream",
          "name": "stdout",
          "text": "Environment bike-share-env registered to workspace. Environment version is 4.\n"
        }
      ],
      "execution_count": 10,
      "metadata": {
        "jupyter": {
          "source_hidden": false,
          "outputs_hidden": false
        },
        "nteract": {
          "transient": {
            "deleting": false
          }
        },
        "gather": {
          "logged": 1682514291177
        }
      }
    },
    {
      "cell_type": "markdown",
      "source": [
        "## Endpoints and Deployments\r\n",
        "\r\n",
        "- An Endpoint is an HTTP server that allows interaction with the model(s).\r\n",
        "- An endpoint may serve multiple models.\r\n",
        "- Each model must be deployed in order for the endpoint to serve it.\r\n",
        "- Hence, one Endpoint can have many Deployments.\r\n",
        "- Blue-Green deployment and traffic management can be handled here or using az CLI."
      ],
      "metadata": {
        "nteract": {
          "transient": {
            "deleting": false
          }
        }
      }
    },
    {
      "cell_type": "code",
      "source": [
        "# Create an endpoint name\r\n",
        "endpoint_name = \"my-endpoint3\"\r\n",
        "\r\n",
        "# create an online endpoint\r\n",
        "endpoint = ManagedOnlineEndpoint(\r\n",
        "    name = endpoint_name, \r\n",
        "    description=\"Bike share endpoint\",\r\n",
        "    auth_mode=\"key\",\r\n",
        ")\r\n",
        "\r\n",
        "ml_client.online_endpoints.begin_create_or_update(endpoint, ).result()"
      ],
      "outputs": [
        {
          "output_type": "execute_result",
          "execution_count": 11,
          "data": {
            "text/plain": "ManagedOnlineEndpoint({'public_network_access': 'Enabled', 'provisioning_state': 'Succeeded', 'scoring_uri': 'https://my-endpoint3.westus.inference.ml.azure.com/score', 'openapi_uri': 'https://my-endpoint3.westus.inference.ml.azure.com/swagger.json', 'name': 'my-endpoint3', 'description': 'Bike share endpoint', 'tags': {}, 'properties': {'azureml.onlineendpointid': '/subscriptions/49b5441f-dda4-47a9-81c4-13272430f4ff/resourcegroups/rg-pooya120-dev/providers/microsoft.machinelearningservices/workspaces/amlwpooya120dev/onlineendpoints/my-endpoint3', 'AzureAsyncOperationUri': 'https://management.azure.com/subscriptions/49b5441f-dda4-47a9-81c4-13272430f4ff/providers/Microsoft.MachineLearningServices/locations/westus/mfeOperationsStatus/oe:130523ce-1b7a-4fb0-a10c-81b9b91961ad:24fa020a-ba28-46b4-a7a7-510072167edb?api-version=2022-02-01-preview'}, 'print_as_yaml': True, 'id': '/subscriptions/49b5441f-dda4-47a9-81c4-13272430f4ff/resourceGroups/rg-pooya120-dev/providers/Microsoft.MachineLearningServices/workspaces/amlwpooya120dev/onlineEndpoints/my-endpoint3', 'Resource__source_path': None, 'base_path': '/mnt/batch/tasks/shared/LS_root/mounts/clusters/pooyaalavian1/code/Users/pooyaalavian/experimentation/ds', 'creation_context': None, 'serialize': <msrest.serialization.Serializer object at 0x7efda3289cc0>, 'auth_mode': 'key', 'location': 'westus', 'identity': <azure.ai.ml.entities._credentials.IdentityConfiguration object at 0x7efda328af50>, 'traffic': {}, 'mirror_traffic': {}, 'kind': 'Managed'})"
          },
          "metadata": {}
        }
      ],
      "execution_count": 11,
      "metadata": {
        "jupyter": {
          "source_hidden": false,
          "outputs_hidden": false
        },
        "nteract": {
          "transient": {
            "deleting": false
          }
        },
        "gather": {
          "logged": 1682514414194
        }
      }
    },
    {
      "cell_type": "code",
      "source": [
        "# grab the model to be deployed and the serving environment\r\n",
        "model = ml_client.models.get('sklearn.ensemble._forest.RandomForestRegressor',4)\r\n",
        "env = ml_client.environments.get('bike-share-env', 4)"
      ],
      "outputs": [],
      "execution_count": 13,
      "metadata": {
        "jupyter": {
          "source_hidden": false,
          "outputs_hidden": false
        },
        "nteract": {
          "transient": {
            "deleting": false
          }
        },
        "gather": {
          "logged": 1682514436380
        }
      }
    },
    {
      "cell_type": "code",
      "source": [
        "\r\n",
        "deployment = ManagedOnlineDeployment(\r\n",
        "    name=\"blue\",\r\n",
        "    endpoint_name=endpoint_name,\r\n",
        "    model=model,\r\n",
        "    environment=env,\r\n",
        "    code_configuration=CodeConfiguration(\r\n",
        "        code=\"./score\", scoring_script=\"score.py\"\r\n",
        "    ),\r\n",
        "    instance_type=\"Standard_DS3_v2\",\r\n",
        "    instance_count=1,\r\n",
        "    app_insights_enabled=True,\r\n",
        ")\r\n",
        "ml_client.online_deployments.begin_create_or_update(deployment=deployment, ).result()"
      ],
      "outputs": [
        {
          "output_type": "stream",
          "name": "stderr",
          "text": "Check: endpoint my-endpoint3 exists\n\u001b[32mUploading score (0.0 MBs): 100%|██████████| 2648/2648 [00:00<00:00, 55913.64it/s]\n\u001b[39m\n\ndata_collector is not a known attribute of class <class 'azure.ai.ml._restclient.v2022_02_01_preview.models._models_py3.ManagedOnlineDeployment'> and will be ignored\n"
        },
        {
          "output_type": "stream",
          "name": "stdout",
          "text": "................................"
        },
        {
          "output_type": "execute_result",
          "execution_count": 17,
          "data": {
            "text/plain": "ManagedOnlineDeployment({'private_network_connection': False, 'provisioning_state': 'Succeeded', 'data_collector': None, 'endpoint_name': 'my-endpoint3', 'type': 'Managed', 'name': 'blue', 'description': None, 'tags': {}, 'properties': {'AzureAsyncOperationUri': 'https://management.azure.com/subscriptions/49b5441f-dda4-47a9-81c4-13272430f4ff/providers/Microsoft.MachineLearningServices/locations/westus/mfeOperationsStatus/od:130523ce-1b7a-4fb0-a10c-81b9b91961ad:3ea74fa6-9965-45af-bd31-22e49dc08bbd?api-version=2022-02-01-preview'}, 'print_as_yaml': True, 'id': '/subscriptions/49b5441f-dda4-47a9-81c4-13272430f4ff/resourceGroups/rg-pooya120-dev/providers/Microsoft.MachineLearningServices/workspaces/amlwpooya120dev/onlineEndpoints/my-endpoint3/deployments/blue', 'Resource__source_path': None, 'base_path': '/mnt/batch/tasks/shared/LS_root/mounts/clusters/pooyaalavian1/code/Users/pooyaalavian/experimentation/ds', 'creation_context': None, 'serialize': <msrest.serialization.Serializer object at 0x7efd93169cc0>, 'model': '/subscriptions/49b5441f-dda4-47a9-81c4-13272430f4ff/resourceGroups/rg-pooya120-dev/providers/Microsoft.MachineLearningServices/workspaces/amlwpooya120dev/models/sklearn.ensemble._forest.RandomForestRegressor/versions/4', 'code_configuration': {'code': '/subscriptions/49b5441f-dda4-47a9-81c4-13272430f4ff/resourceGroups/rg-pooya120-dev/providers/Microsoft.MachineLearningServices/workspaces/amlwpooya120dev/codes/e8652d38-49b5-4bda-b43f-cbc583aa065e/versions/1'}, 'environment': '/subscriptions/49b5441f-dda4-47a9-81c4-13272430f4ff/resourceGroups/rg-pooya120-dev/providers/Microsoft.MachineLearningServices/workspaces/amlwpooya120dev/environments/bike-share-env/versions/4', 'environment_variables': {}, 'app_insights_enabled': True, 'scale_settings': <azure.ai.ml.entities._deployment.scale_settings.DefaultScaleSettings object at 0x7efd9316a200>, 'request_settings': <azure.ai.ml.entities._deployment.deployment_settings.OnlineRequestSettings object at 0x7efd93169660>, 'liveness_probe': <azure.ai.ml.entities._deployment.deployment_settings.ProbeSettings object at 0x7efd93169120>, 'readiness_probe': <azure.ai.ml.entities._deployment.deployment_settings.ProbeSettings object at 0x7efd9316b1f0>, 'instance_count': 1, 'arm_type': 'online_deployment', 'model_mount_path': None, 'instance_type': 'Standard_DS3_v2', 'egress_public_network_access': 'Enabled'})"
          },
          "metadata": {}
        }
      ],
      "execution_count": 17,
      "metadata": {
        "jupyter": {
          "source_hidden": false,
          "outputs_hidden": false
        },
        "nteract": {
          "transient": {
            "deleting": false
          }
        },
        "gather": {
          "logged": 1682515515161
        }
      }
    }
  ],
  "metadata": {
    "kernelspec": {
      "name": "python310-sdkv2",
      "language": "python",
      "display_name": "Python 3.10 - SDK v2"
    },
    "language_info": {
      "name": "python",
      "version": "3.10.10",
      "mimetype": "text/x-python",
      "codemirror_mode": {
        "name": "ipython",
        "version": 3
      },
      "pygments_lexer": "ipython3",
      "nbconvert_exporter": "python",
      "file_extension": ".py"
    },
    "orig_nbformat": 4,
    "microsoft": {
      "ms_spell_check": {
        "ms_spell_check_language": "en"
      },
      "host": {
        "AzureML": {
          "notebookHasBeenCompleted": true
        }
      }
    },
    "kernel_info": {
      "name": "python310-sdkv2"
    },
    "nteract": {
      "version": "nteract-front-end@1.0.0"
    }
  },
  "nbformat": 4,
  "nbformat_minor": 2
}