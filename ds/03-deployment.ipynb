{
  "cells": [
    {
      "attachments": {},
      "cell_type": "markdown",
      "source": [
        "# Model Management\n",
        "## Azure ML and MLFlow tracking"
      ],
      "metadata": {}
    },
    {
      "cell_type": "code",
      "source": [
        "# Deploy model\r\n",
        "# Connect to workspace\r\n",
        "from azure.ai.ml import MLClient\r\n",
        "from azure.identity import DefaultAzureCredential\r\n",
        "\r\n",
        "credential = DefaultAzureCredential()\r\n",
        "ml_client = MLClient(\r\n",
        "    credential=credential,\r\n",
        "    subscription_id=\"49b5441f-dda4-47a9-81c4-13272430f4ff\",\r\n",
        "    resource_group_name=\"rg-pooya120-dev\",\r\n",
        "    workspace_name=\"amlwpooya120dev\",\r\n",
        ")"
      ],
      "outputs": [],
      "execution_count": 1,
      "metadata": {
        "jupyter": {
          "source_hidden": false,
          "outputs_hidden": false
        },
        "nteract": {
          "transient": {
            "deleting": false
          }
        },
        "gather": {
          "logged": 1682510644488
        }
      }
    },
    {
      "cell_type": "code",
      "source": [
        "from azure.ai.ml.entities import (\r\n",
        "    ManagedOnlineEndpoint,\r\n",
        "    ManagedOnlineDeployment,\r\n",
        "    Model,\r\n",
        "    Environment,\r\n",
        "    CodeConfiguration,\r\n",
        ")\r\n",
        "import os\r\n",
        "\r\n",
        "score_dir = './score'\r\n",
        "os.makedirs(score_dir, exist_ok=True)"
      ],
      "outputs": [],
      "execution_count": 2,
      "metadata": {
        "jupyter": {
          "source_hidden": false,
          "outputs_hidden": false
        },
        "nteract": {
          "transient": {
            "deleting": false
          }
        },
        "gather": {
          "logged": 1682510646278
        }
      }
    },
    {
      "cell_type": "code",
      "source": [
        "%%writefile {score_dir}/conda.yml\r\n",
        "name: model-env\r\n",
        "channels:\r\n",
        "  - conda-forge\r\n",
        "dependencies:\r\n",
        "  - python=3.8\r\n",
        "  - numpy=1.21.2\r\n",
        "  - pip=21.2.4\r\n",
        "  - scikit-learn=0.24.2\r\n",
        "  - scipy=1.7.1\r\n",
        "  - pandas>=1.1,<1.2\r\n",
        "  - pip:\r\n",
        "    - azureml-defaults>=1.42.0\r\n",
        "    - azureml-inference-server-http\r\n",
        "    - inference-schema[numpy-support]==1.3.0\r\n",
        "    - xlrd==2.0.1\r\n",
        "    - mlflow== 1.26.1\r\n",
        "    - azureml-mlflow==1.42.0\r\n",
        "    - psutil>=5.8,<5.9\r\n",
        "    - tqdm>=4.59,<4.60\r\n",
        "    - ipykernel~=6.0\r\n",
        "    - matplotlib"
      ],
      "outputs": [
        {
          "output_type": "stream",
          "name": "stdout",
          "text": "Overwriting ./score/conda.yml\n"
        }
      ],
      "execution_count": 3,
      "metadata": {
        "jupyter": {
          "source_hidden": false,
          "outputs_hidden": false
        },
        "nteract": {
          "transient": {
            "deleting": false
          }
        }
      }
    },
    {
      "cell_type": "code",
      "source": [
        "from azure.ai.ml.entities import Environment\r\n",
        "\r\n",
        "custom_env_name = \"bike-share-env\"\r\n",
        "\r\n",
        "env = Environment(\r\n",
        "    name=custom_env_name,\r\n",
        "    description=\"Custom environment for Bike Share pipeline\",\r\n",
        "    tags={\"scikit-learn\": \"0.24.2\"},\r\n",
        "    conda_file= \"score/conda.yml\",\r\n",
        "    image=\"mcr.microsoft.com/azureml/openmpi3.1.2-ubuntu18.04:latest\",\r\n",
        ")\r\n",
        "env = ml_client.environments.create_or_update(env)\r\n",
        "\r\n",
        "print(\r\n",
        "    f\"Environment {env.name} registered to workspace. \"\r\n",
        "    f\"Environment version is {env.version}.\"\r\n",
        ")"
      ],
      "outputs": [
        {
          "output_type": "stream",
          "name": "stdout",
          "text": "Environment bike-share-env registered to workspace. Environment version is 3.\n"
        }
      ],
      "execution_count": 4,
      "metadata": {
        "jupyter": {
          "source_hidden": false,
          "outputs_hidden": false
        },
        "nteract": {
          "transient": {
            "deleting": false
          }
        },
        "gather": {
          "logged": 1682510663325
        }
      }
    },
    {
      "cell_type": "markdown",
      "source": [
        "## Endpoints and Deployments\r\n",
        "\r\n",
        "- An Endpoint is an HTTP server that allows interaction with the model(s).\r\n",
        "- An endpoint may serve multiple models.\r\n",
        "- Each model must be deployed in order for the endpoint to serve it.\r\n",
        "- Hence, one Endpoint can have many Deployments.\r\n",
        "- Blue-Green deployment and traffic management can be handled here or using az CLI."
      ],
      "metadata": {
        "nteract": {
          "transient": {
            "deleting": false
          }
        }
      }
    },
    {
      "cell_type": "code",
      "source": [
        "# Create an endpoint name\r\n",
        "endpoint_name = \"my-endpoint2\"\r\n",
        "\r\n",
        "# create an online endpoint\r\n",
        "endpoint = ManagedOnlineEndpoint(\r\n",
        "    name = endpoint_name, \r\n",
        "    description=\"Bike share endpoint\",\r\n",
        "    auth_mode=\"key\",\r\n",
        ")\r\n",
        "\r\n",
        "ml_client.online_endpoints.begin_create_or_update(endpoint, ).result()"
      ],
      "outputs": [],
      "execution_count": null,
      "metadata": {
        "jupyter": {
          "source_hidden": false,
          "outputs_hidden": false
        },
        "nteract": {
          "transient": {
            "deleting": false
          }
        },
        "gather": {
          "logged": 1682500425078
        }
      }
    },
    {
      "cell_type": "code",
      "source": [
        "# grab the model to be deployed and the serving environment\r\n",
        "model = ml_client.models.get('sklearn.ensemble._forest.RandomForestRegressor',1)\r\n",
        "env = ml_client.environments.get('aml-scikit-learn', 2)"
      ],
      "outputs": [],
      "execution_count": null,
      "metadata": {
        "jupyter": {
          "source_hidden": false,
          "outputs_hidden": false
        },
        "nteract": {
          "transient": {
            "deleting": false
          }
        }
      }
    },
    {
      "cell_type": "code",
      "source": [
        "\r\n",
        "deployment = ManagedOnlineDeployment(\r\n",
        "    name=\"blue2\",\r\n",
        "    endpoint_name=endpoint_name,\r\n",
        "    model=model,\r\n",
        "    environment=env,\r\n",
        "    code_configuration=CodeConfiguration(\r\n",
        "        code=\"./score\", scoring_script=\"score.py\"\r\n",
        "    ),\r\n",
        "    instance_type=\"Standard_DS3_v2\",\r\n",
        "    instance_count=1,\r\n",
        "    app_insights_enabled=True,\r\n",
        ")\r\n",
        "ml_client.online_deployments.begin_create_or_update(deployment=deployment, ).result()"
      ],
      "outputs": [],
      "execution_count": null,
      "metadata": {
        "jupyter": {
          "source_hidden": false,
          "outputs_hidden": false
        },
        "nteract": {
          "transient": {
            "deleting": false
          }
        },
        "gather": {
          "logged": 1682501805282
        }
      }
    }
  ],
  "metadata": {
    "kernelspec": {
      "name": "python310-sdkv2",
      "language": "python",
      "display_name": "Python 3.10 - SDK v2"
    },
    "language_info": {
      "name": "python",
      "version": "3.10.10",
      "mimetype": "text/x-python",
      "codemirror_mode": {
        "name": "ipython",
        "version": 3
      },
      "pygments_lexer": "ipython3",
      "nbconvert_exporter": "python",
      "file_extension": ".py"
    },
    "orig_nbformat": 4,
    "microsoft": {
      "ms_spell_check": {
        "ms_spell_check_language": "en"
      },
      "host": {
        "AzureML": {
          "notebookHasBeenCompleted": true
        }
      }
    },
    "kernel_info": {
      "name": "python310-sdkv2"
    },
    "nteract": {
      "version": "nteract-front-end@1.0.0"
    }
  },
  "nbformat": 4,
  "nbformat_minor": 2
}