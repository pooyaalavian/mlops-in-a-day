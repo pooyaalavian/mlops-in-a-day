{
  "cells": [
    {
      "attachments": {},
      "cell_type": "markdown",
      "metadata": {},
      "source": [
        "# Model Deployment\n",
        "## Azure ML and MLFlow tracking"
      ]
    },
    {
      "cell_type": "code",
      "execution_count": null,
      "metadata": {
        "gather": {
          "logged": 1682513783356
        },
        "jupyter": {
          "outputs_hidden": false,
          "source_hidden": false
        },
        "nteract": {
          "transient": {
            "deleting": false
          }
        }
      },
      "outputs": [],
      "source": [
        "# Deploy model\n",
        "# Connect to workspace\n",
        "from azure.ai.ml import MLClient\n",
        "from azure.identity import DefaultAzureCredential\n",
        "\n",
        "credential = DefaultAzureCredential()\n",
        "ml_client = MLClient(\n",
        "    credential=credential,\n",
        "    subscription_id=\"...\",\n",
        "    resource_group_name=\"...\",\n",
        "    workspace_name=\"...\",\n",
        ")"
      ]
    },
    {
      "cell_type": "code",
      "execution_count": null,
      "metadata": {
        "gather": {
          "logged": 1682513789340
        },
        "jupyter": {
          "outputs_hidden": false,
          "source_hidden": false
        },
        "nteract": {
          "transient": {
            "deleting": false
          }
        }
      },
      "outputs": [],
      "source": [
        "from azure.ai.ml.entities import (\n",
        "    ManagedOnlineEndpoint,\n",
        "    ManagedOnlineDeployment,\n",
        "    Model,\n",
        "    Environment,\n",
        "    CodeConfiguration,\n",
        ")\n",
        "import os\n",
        "\n",
        "score_dir = './score'\n",
        "os.makedirs(score_dir, exist_ok=True)"
      ]
    },
    {
      "cell_type": "code",
      "execution_count": null,
      "metadata": {
        "jupyter": {
          "outputs_hidden": false,
          "source_hidden": false
        },
        "nteract": {
          "transient": {
            "deleting": false
          }
        }
      },
      "outputs": [],
      "source": [
        "%%writefile {score_dir}/score.py\n",
        "import os\n",
        "import logging\n",
        "import json\n",
        "import numpy\n",
        "import joblib\n",
        "from sklearn.ensemble import RandomForestRegressor\n",
        "from sklearn.metrics import mean_squared_error\n",
        "from sklearn.preprocessing import OneHotEncoder\n",
        "from sklearn.model_selection import train_test_split\n",
        "import requests\n",
        "from datetime import datetime\n",
        "FN_URL = 'https://<your fn app name>.azurewebsites.net/api'\n",
        "\n",
        "def init():\n",
        "    \"\"\"\n",
        "    This function is called when the container is initialized/started, typically after create/update of the deployment.\n",
        "    You can write the logic here to perform init operations like caching the model in memory\n",
        "    \"\"\"\n",
        "    global model\n",
        "    # AZUREML_MODEL_DIR is an environment variable created during deployment.\n",
        "    # It is the path to the model folder (./azureml-models/$MODEL_NAME/$VERSION)\n",
        "    model_path = os.path.join(\n",
        "        os.getenv(\"AZUREML_MODEL_DIR\"), \"model/model.pkl\"\n",
        "    )\n",
        "    print(model_path)\n",
        "    logging.info(\"Loading model from \"+model_path)\n",
        "    # deserialize the model file back into a sklearn model\n",
        "    model = joblib.load(model_path)\n",
        "    logging.info(\"Init complete\")\n",
        "\n",
        "\n",
        "def run(raw_data):\n",
        "    \"\"\"\n",
        "    This function is called for every invocation of the endpoint to perform the actual scoring/prediction.\n",
        "    In the example we extract the data from the json input and call the scikit-learn model's predict()\n",
        "    method and return the result back\n",
        "    \"\"\"\n",
        "    logging.info(\"Request received\")\n",
        "    arr = json.loads(raw_data)\n",
        "    payload = []\n",
        "    results = []\n",
        "    for data in arr:\n",
        "        id = data['id']\n",
        "        ts = data['ts']\n",
        "        inputs = data['inputs']\n",
        "        npdata = numpy.array(inputs)\n",
        "        value = model.predict(npdata)[0]\n",
        "        results.append(value)\n",
        "        payload.append({\"id\":id,\"ts\":ts, \"inputs\":json.dumps(inputs), \"value\":value, \"type\":\"prediction\"})\n",
        "    logging.info(\"Request processed\")\n",
        "    requests.post(FN_URL+'/DataLogger',json=payload)\n",
        "    return results\n"
      ]
    },
    {
      "cell_type": "code",
      "execution_count": null,
      "metadata": {
        "jupyter": {
          "outputs_hidden": false,
          "source_hidden": false
        },
        "nteract": {
          "transient": {
            "deleting": false
          }
        }
      },
      "outputs": [],
      "source": [
        "%%writefile {score_dir}/conda.yml\n",
        "name: model-env\n",
        "channels:\n",
        "  - conda-forge\n",
        "dependencies:\n",
        "  - python=3.8\n",
        "  - numpy=1.21.2\n",
        "  - pip=21.2.4\n",
        "  - scikit-learn=0.24.2\n",
        "  - scipy=1.7.1\n",
        "  - pandas>=1.1,<1.2\n",
        "  - pip:\n",
        "    - azureml-defaults>=1.42.0\n",
        "    - azureml-inference-server-http\n",
        "    - inference-schema[numpy-support]==1.3.0\n",
        "    - xlrd==2.0.1\n",
        "    - mlflow== 1.26.1\n",
        "    - azureml-mlflow==1.42.0\n",
        "    - psutil>=5.8,<5.9\n",
        "    - tqdm>=4.59,<4.60\n",
        "    - ipykernel~=6.0\n",
        "    - matplotlib"
      ]
    },
    {
      "cell_type": "code",
      "execution_count": null,
      "metadata": {
        "gather": {
          "logged": 1682514291177
        },
        "jupyter": {
          "outputs_hidden": false,
          "source_hidden": false
        },
        "nteract": {
          "transient": {
            "deleting": false
          }
        }
      },
      "outputs": [],
      "source": [
        "from azure.ai.ml.entities import Environment\n",
        "\n",
        "custom_env_name = \"bike-share-env\"\n",
        "\n",
        "env = Environment(\n",
        "    name=custom_env_name,\n",
        "    description=\"Custom environment for Bike Share pipeline\",\n",
        "    tags={\"scikit-learn\": \"0.24.2\"},\n",
        "    conda_file= \"score/conda.yml\",\n",
        "    image=\"mcr.microsoft.com/azureml/openmpi3.1.2-ubuntu18.04:latest\",\n",
        ")\n",
        "env = ml_client.environments.create_or_update(env)\n",
        "\n",
        "print(\n",
        "    f\"Environment {env.name} registered to workspace. \"\n",
        "    f\"Environment version is {env.version}.\"\n",
        ")"
      ]
    },
    {
      "attachments": {},
      "cell_type": "markdown",
      "metadata": {
        "nteract": {
          "transient": {
            "deleting": false
          }
        }
      },
      "source": [
        "## Endpoints and Deployments\n",
        "\n",
        "- An Endpoint is an HTTP server that allows interaction with the model(s).\n",
        "- An endpoint may serve multiple models.\n",
        "- Each model must be deployed in order for the endpoint to serve it.\n",
        "- Hence, one Endpoint can have many Deployments.\n",
        "- Blue-Green deployment and traffic management can be handled here or using az CLI."
      ]
    },
    {
      "attachments": {},
      "cell_type": "markdown",
      "metadata": {},
      "source": [
        "## Creating Endpoint\n",
        "### Python SDK"
      ]
    },
    {
      "cell_type": "code",
      "execution_count": null,
      "metadata": {
        "gather": {
          "logged": 1682514414194
        },
        "jupyter": {
          "outputs_hidden": false,
          "source_hidden": false
        },
        "nteract": {
          "transient": {
            "deleting": false
          }
        }
      },
      "outputs": [],
      "source": [
        "# Create an endpoint name\n",
        "endpoint_name = \"my-endpoint\"\n",
        "\n",
        "# create an online endpoint\n",
        "endpoint = ManagedOnlineEndpoint(\n",
        "    name = endpoint_name, \n",
        "    description=\"Bike share endpoint\",\n",
        "    auth_mode=\"key\",\n",
        ")\n",
        "\n",
        "ml_client.online_endpoints.begin_create_or_update(endpoint, ).result()"
      ]
    },
    {
      "attachments": {},
      "cell_type": "markdown",
      "metadata": {},
      "source": [
        "### Azure CLI \n",
        "You can achieve the same by running \n",
        "```\n",
        "az ml online-endpoint create --file path/to/my-endpoint.yml --resource-group ... --workspace-name ...\n",
        "```\n",
        "where `my-endpoint.yml` is as follows:\n",
        "```yml\n",
        "$schema: https://azuremlschemas.azureedge.net/latest/managedOnlineEndpoint.schema.json\n",
        "name: my-endpoint\n",
        "description: Bike share endpoint\n",
        "auth_mode: key\n",
        "```\n",
        "\n",
        "More info: [here](https://learn.microsoft.com/en-us/cli/azure/ml/online-deployment?view=azure-cli-latest)"
      ]
    },
    {
      "attachments": {},
      "cell_type": "markdown",
      "metadata": {},
      "source": [
        "## Creating a Deployment\n",
        "### Python SDK"
      ]
    },
    {
      "cell_type": "code",
      "execution_count": null,
      "metadata": {
        "gather": {
          "logged": 1682514436380
        },
        "jupyter": {
          "outputs_hidden": false,
          "source_hidden": false
        },
        "nteract": {
          "transient": {
            "deleting": false
          }
        }
      },
      "outputs": [],
      "source": [
        "# grab the model to be deployed and the serving environment\n",
        "model = ml_client.models.get('sklearn.ensemble._forest.RandomForestRegressor',1)\n",
        "env = ml_client.environments.get('bike-share-env', 1)\n",
        "\n",
        "deployment = ManagedOnlineDeployment(\n",
        "    name=\"blue\",\n",
        "    endpoint_name=endpoint_name,\n",
        "    model=model,\n",
        "    environment=env,\n",
        "    code_configuration=CodeConfiguration(\n",
        "        code=\"./score\", scoring_script=\"score.py\"\n",
        "    ),\n",
        "    instance_type=\"Standard_DS3_v2\",\n",
        "    instance_count=1,\n",
        "    app_insights_enabled=True,\n",
        ")\n",
        "ml_client.online_deployments.begin_create_or_update(deployment=deployment, ).result()"
      ]
    },
    {
      "attachments": {},
      "cell_type": "markdown",
      "metadata": {},
      "source": [
        "### Azure CLI\n",
        "\n",
        "You can use\n",
        "```sh\n",
        "az ml online-deployment create --file path/to/deployment.yaml --resource-group ... --workspace-name ...\n",
        "```\n",
        "where `deployment.yml` is as follows:\n",
        "```yml\n",
        "$schema: https://azuremlschemas.azureedge.net/latest/managedOnlineDeployment.schema.json\n",
        "name: blue\n",
        "endpoint_name: my-endpoint\n",
        "model: azureml:sklearn.ensemble._forest.RandomForestRegressor:1\n",
        "environment: azureml:bike-share-env:1\n",
        "code_configuration:\n",
        "  code: score/\n",
        "  scoring_script: score.py\n",
        "instance_type: Standard_DS3_v2\n",
        "instance_count: 1\n",
        "app_insights_enabled: true\n",
        "```\n",
        "\n",
        "More info: [here](https://learn.microsoft.com/en-us/cli/azure/ml/online-endpoint?view=azure-cli-latest)"
      ]
    },
    {
      "attachments": {},
      "cell_type": "markdown",
      "metadata": {},
      "source": []
    }
  ],
  "metadata": {
    "kernel_info": {
      "name": "python310-sdkv2"
    },
    "kernelspec": {
      "display_name": "Python 3.10 - SDK v2",
      "language": "python",
      "name": "python310-sdkv2"
    },
    "language_info": {
      "codemirror_mode": {
        "name": "ipython",
        "version": 3
      },
      "file_extension": ".py",
      "mimetype": "text/x-python",
      "name": "python",
      "nbconvert_exporter": "python",
      "pygments_lexer": "ipython3",
      "version": "3.10.10"
    },
    "microsoft": {
      "host": {
        "AzureML": {
          "notebookHasBeenCompleted": true
        }
      },
      "ms_spell_check": {
        "ms_spell_check_language": "en"
      }
    },
    "nteract": {
      "version": "nteract-front-end@1.0.0"
    },
    "orig_nbformat": 4
  },
  "nbformat": 4,
  "nbformat_minor": 2
}
